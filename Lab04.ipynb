{
  "nbformat": 4,
  "nbformat_minor": 0,
  "metadata": {
    "colab": {
      "name": "Lab04.ipynb",
      "provenance": [],
      "collapsed_sections": [],
      "authorship_tag": "ABX9TyM5FMtkWGnPQBKvJZwBZ8Bc",
      "include_colab_link": true
    },
    "kernelspec": {
      "name": "python3",
      "display_name": "Python 3"
    },
    "language_info": {
      "name": "python"
    }
  },
  "cells": [
    {
      "cell_type": "markdown",
      "metadata": {
        "id": "view-in-github",
        "colab_type": "text"
      },
      "source": [
        "<a href=\"https://colab.research.google.com/github/ThaiSon09/ThaiSon09/blob/main/Lab04.ipynb\" target=\"_parent\"><img src=\"https://colab.research.google.com/assets/colab-badge.svg\" alt=\"Open In Colab\"/></a>"
      ]
    },
    {
      "cell_type": "markdown",
      "metadata": {
        "id": "NDepZULoSE8D"
      },
      "source": [
        "Bài 1:"
      ]
    },
    {
      "cell_type": "code",
      "metadata": {
        "colab": {
          "base_uri": "https://localhost:8080/"
        },
        "id": "Ioy2S37-SC9v",
        "outputId": "172a25d4-c0e0-453f-be98-53e6a1b52c59"
      },
      "source": [
        "def find_dups(givenList):\n",
        "  elem_set = set()\n",
        "  dups_set = set()\n",
        "  for entry in givenList:\n",
        "    len_initial = len(elem_set)\n",
        "    elem_set.add(entry)\n",
        "    len_after = len(elem_set)\n",
        "    if len_initial == len_after:\n",
        "      dups_set.add(entry)\n",
        "  return(dups_set)\n",
        "find_dups([1, 1, 2, 3, 4, 5, 5, 2])"
      ],
      "execution_count": 1,
      "outputs": [
        {
          "output_type": "execute_result",
          "data": {
            "text/plain": [
              "{1, 2, 5}"
            ]
          },
          "metadata": {},
          "execution_count": 1
        }
      ]
    },
    {
      "cell_type": "markdown",
      "metadata": {
        "id": "PyEfW1BJSNZZ"
      },
      "source": [
        "Bài 3:\n"
      ]
    },
    {
      "cell_type": "code",
      "metadata": {
        "colab": {
          "base_uri": "https://localhost:8080/"
        },
        "id": "romlJweQSOqy",
        "outputId": "815f9809-8e1a-4d1a-94e1-4380e4deaadd"
      },
      "source": [
        "def mating_pairs(males, females):\n",
        "  pairs = set()\n",
        "  num_gerbils = len(males)\n",
        "  for i in range(num_gerbils):\n",
        "    male = males.pop()\n",
        "    female = females.pop()\n",
        "    pairs.add((male, female),)\n",
        "  return pairs\n",
        "mating_pairs({'Male1', 'Male2', 'Male3'}, {'Female1', 'Female2', 'Female3'})"
      ],
      "execution_count": 2,
      "outputs": [
        {
          "output_type": "execute_result",
          "data": {
            "text/plain": [
              "{('Male1', 'Female1'), ('Male2', 'Female2'), ('Male3', 'Female3')}"
            ]
          },
          "metadata": {},
          "execution_count": 2
        }
      ]
    },
    {
      "cell_type": "markdown",
      "metadata": {
        "id": "HFsU-p8-SPwq"
      },
      "source": [
        "Bài 4:"
      ]
    },
    {
      "cell_type": "code",
      "metadata": {
        "id": "lB8UzuhPSRCS"
      },
      "source": [
        "def get_authors(filenames):\n",
        "  authors = set()\n",
        "  for filename in filenames:\n",
        "    pdb_file = open(filename)\n",
        "    for line in pdb_file:\n",
        "      if line.lower().startswith('author'):\n",
        "        author = line[6:].strip()\n",
        "        authors.add(author)\n",
        "  return authors"
      ],
      "execution_count": 4,
      "outputs": []
    },
    {
      "cell_type": "markdown",
      "metadata": {
        "id": "g1OlYgLFSVXy"
      },
      "source": [
        "Bài 5:"
      ]
    },
    {
      "cell_type": "code",
      "metadata": {
        "colab": {
          "base_uri": "https://localhost:8080/"
        },
        "id": "-5bNtzk9SWnC",
        "outputId": "7b0098f0-b536-4dd3-c2e8-aed44824f8f3"
      },
      "source": [
        "def count_values(dictionary):\n",
        "  return len(set(dictionary.values()))\n",
        "count_values({'red': 1, 'green': 2, 'blue': 2})"
      ],
      "execution_count": 5,
      "outputs": [
        {
          "output_type": "execute_result",
          "data": {
            "text/plain": [
              "2"
            ]
          },
          "metadata": {},
          "execution_count": 5
        }
      ]
    },
    {
      "cell_type": "markdown",
      "metadata": {
        "id": "6v5ALcKjSYCy"
      },
      "source": [
        "Bài 6:"
      ]
    },
    {
      "cell_type": "code",
      "metadata": {
        "colab": {
          "base_uri": "https://localhost:8080/",
          "height": 35
        },
        "id": "5xfIOyY9SZgS",
        "outputId": "f5e967b5-6dc1-441c-b6e4-51b257588f4b"
      },
      "source": [
        "def least_likely(particle_to_probability):\n",
        "  smallest = 1\n",
        "  name = ''\n",
        "  for particle in particle_to_probability:\n",
        "    probability = particle_to_probability[particle]\n",
        "    if probability < smallest:\n",
        "      smallest = probability\n",
        "      name = particle\n",
        "  return name\n",
        "least_likely({'neutron': 0.55, 'proton': 0.21, 'meson': 0.03, 'muon': 0.07, 'neutrino': 0.14})"
      ],
      "execution_count": 6,
      "outputs": [
        {
          "output_type": "execute_result",
          "data": {
            "application/vnd.google.colaboratory.intrinsic+json": {
              "type": "string"
            },
            "text/plain": [
              "'meson'"
            ]
          },
          "metadata": {},
          "execution_count": 6
        }
      ]
    },
    {
      "cell_type": "markdown",
      "metadata": {
        "id": "LRUq_XJQSb_y"
      },
      "source": [
        "Bài 7:"
      ]
    },
    {
      "cell_type": "code",
      "metadata": {
        "colab": {
          "base_uri": "https://localhost:8080/"
        },
        "id": "0UztetfaSdHD",
        "outputId": "e1867c19-3e26-4ae9-9382-50ba09591822"
      },
      "source": [
        "def count_duplicates(dictionary):\n",
        "  duplicates = 0\n",
        "  values = list(dictionary.values())\n",
        "  for item in values:\n",
        "    if values.count(item) >= 2:\n",
        "      duplicates = duplicates + 1\n",
        "      num_occurrences = values.count(item)\n",
        "      for i in range(num_occurrences):\n",
        "        values.remove(item)\n",
        "  return duplicates\n",
        "count_duplicates({'R': 1, 'G': 2, 'B': 2, 'Y': 1, 'P': 3})"
      ],
      "execution_count": 7,
      "outputs": [
        {
          "output_type": "execute_result",
          "data": {
            "text/plain": [
              "2"
            ]
          },
          "metadata": {},
          "execution_count": 7
        }
      ]
    },
    {
      "cell_type": "markdown",
      "metadata": {
        "id": "MguI65QRSgZ7"
      },
      "source": [
        "Bài 8:"
      ]
    },
    {
      "cell_type": "code",
      "metadata": {
        "colab": {
          "base_uri": "https://localhost:8080/"
        },
        "id": "b3ROkvyWShlR",
        "outputId": "b8c8d732-2331-4663-9beb-b6d9731b5981"
      },
      "source": [
        "def is_balanced(color_to_factor):\n",
        "  values = list(color_to_factor.values())\n",
        "  total = sum(values)\n",
        "  return total == 1.0\n",
        "is_balanced({'R': 0.5, 'G': 0.4, 'B': 0.7})"
      ],
      "execution_count": 8,
      "outputs": [
        {
          "output_type": "execute_result",
          "data": {
            "text/plain": [
              "False"
            ]
          },
          "metadata": {},
          "execution_count": 8
        }
      ]
    },
    {
      "cell_type": "markdown",
      "metadata": {
        "id": "10b2tBmHSjri"
      },
      "source": [
        "Bài 9:"
      ]
    },
    {
      "cell_type": "code",
      "metadata": {
        "colab": {
          "base_uri": "https://localhost:8080/"
        },
        "id": "-G-N0ERGSkyS",
        "outputId": "81f352c4-963c-4aa3-ce69-f5ab9ad97cf1"
      },
      "source": [
        "def dict_interest(dict1, dict2):\n",
        "  intersection = {}\n",
        "  for (key, value) in dict1.items():\n",
        "    if key in dict2 and value == dict2[key]:\n",
        "      intersection[key] = value\n",
        "  return intersection\n",
        "dict_interest({'a': 1, 'b': 2, 'c': 3}, {'a': 1, 'd': 2, 'b': 2})"
      ],
      "execution_count": 9,
      "outputs": [
        {
          "output_type": "execute_result",
          "data": {
            "text/plain": [
              "{'a': 1, 'b': 2}"
            ]
          },
          "metadata": {},
          "execution_count": 9
        }
      ]
    },
    {
      "cell_type": "markdown",
      "metadata": {
        "id": "iHZOnqVjSnFq"
      },
      "source": [
        "Bài 10:"
      ]
    },
    {
      "cell_type": "code",
      "metadata": {
        "colab": {
          "base_uri": "https://localhost:8080/"
        },
        "id": "j5LcEUkfSoJy",
        "outputId": "ffb127f2-8621-408e-c430-f247330ec404"
      },
      "source": [
        "def db_headings(dict_of_dict):\n",
        "  inner_keys = set()\n",
        "  for key in dict_of_dict:\n",
        "    for inner_key in dict_of_dict[key]:\n",
        "      inner_keys.add(inner_key)\n",
        "  return inner_keys\n",
        "db_headings({'A': {1: 'a', 2: 'b'}, 'B': {2: 'c', 3: 'd'}})"
      ],
      "execution_count": 10,
      "outputs": [
        {
          "output_type": "execute_result",
          "data": {
            "text/plain": [
              "{1, 2, 3}"
            ]
          },
          "metadata": {},
          "execution_count": 10
        }
      ]
    },
    {
      "cell_type": "markdown",
      "metadata": {
        "id": "u0uQfsrXSpEq"
      },
      "source": [
        "Bài 11:"
      ]
    },
    {
      "cell_type": "code",
      "metadata": {
        "colab": {
          "base_uri": "https://localhost:8080/"
        },
        "id": "ZtvpjXkUSry7",
        "outputId": "d4463e41-ee30-4437-af8d-36f5d36bf070"
      },
      "source": [
        "def db_consistent(dict_of_dict):\n",
        "  inner_keys_list = []\n",
        "  # Build a list of list of keys\n",
        "  for key in dict_of_dict:\n",
        "    inner_keys = list(dict_of_dict[key].keys())\n",
        "    inner_keys.sort()\n",
        "    inner_keys_list.append(inner_keys)\n",
        "  for i in range(1, len(inner_keys_list)):\n",
        "    # If the number of keys is different.\n",
        "    if len(inner_keys_list[0]) != len(inner_keys_list[i]):\n",
        "      return False\n",
        "    # If the keys don't match.\n",
        "    for j in range(len(inner_keys_list[0])):\n",
        "      if inner_keys_list[0][j] != inner_keys_list[i][j]:\n",
        "        return False\n",
        "  return True\n",
        "db_consistent({'A': {1: 'a', 2: 'b'}, 'B': {2: 'c', 3: 'd'}})"
      ],
      "execution_count": 11,
      "outputs": [
        {
          "output_type": "execute_result",
          "data": {
            "text/plain": [
              "False"
            ]
          },
          "metadata": {},
          "execution_count": 11
        }
      ]
    },
    {
      "cell_type": "markdown",
      "metadata": {
        "id": "5V7aqix_SulS"
      },
      "source": [
        "Bài 12:\n",
        "Câu A:"
      ]
    },
    {
      "cell_type": "code",
      "metadata": {
        "colab": {
          "base_uri": "https://localhost:8080/"
        },
        "id": "52F-akSCSwyD",
        "outputId": "b0cb1aae-28d0-4a72-be5c-3ddc1852faae"
      },
      "source": [
        "def sparse_add(vector1, vector2):\n",
        "  sum_vector = vector1.copy()\n",
        "  for key in vector2:\n",
        "    if key in sum_vector:\n",
        "      sum_vector[key] = sum_vector[key] + vector2[key]\n",
        "    else:\n",
        "      sum_vector[key] = vector2[key]\n",
        "  return sum_vector\n",
        "sparse_add({1: 3, 3: 4}, {2: 4, 3: 5, 5: 6})"
      ],
      "execution_count": 12,
      "outputs": [
        {
          "output_type": "execute_result",
          "data": {
            "text/plain": [
              "{1: 3, 2: 4, 3: 9, 5: 6}"
            ]
          },
          "metadata": {},
          "execution_count": 12
        }
      ]
    },
    {
      "cell_type": "markdown",
      "metadata": {
        "id": "e3NfrMZfSyL6"
      },
      "source": [
        "Câu B:"
      ]
    },
    {
      "cell_type": "code",
      "metadata": {
        "colab": {
          "base_uri": "https://localhost:8080/"
        },
        "id": "46UQEINMS0LC",
        "outputId": "a041a2bd-2634-4d20-ff1c-146e840e8d67"
      },
      "source": [
        "def sparse_dot(vector1, vector2):\n",
        "  dot = 0\n",
        "  for key1 in vector1:\n",
        "    if key1 in vector2:\n",
        "      dot = dot + vector1[key1] * vector2[key1]\n",
        "  return dot\n",
        "sparse_dot({1: 3, 3: 4}, {2: 4, 3: 5, 5: 6})"
      ],
      "execution_count": 13,
      "outputs": [
        {
          "output_type": "execute_result",
          "data": {
            "text/plain": [
              "20"
            ]
          },
          "metadata": {},
          "execution_count": 13
        }
      ]
    }
  ]
}