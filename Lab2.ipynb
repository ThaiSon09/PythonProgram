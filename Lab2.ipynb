{
  "nbformat": 4,
  "nbformat_minor": 0,
  "metadata": {
    "colab": {
      "name": "Lab2.ipynb",
      "provenance": [],
      "collapsed_sections": [],
      "authorship_tag": "ABX9TyNsZBLuN3eLv/AGICKWrjR8",
      "include_colab_link": true
    },
    "kernelspec": {
      "name": "python3",
      "display_name": "Python 3"
    },
    "language_info": {
      "name": "python"
    }
  },
  "cells": [
    {
      "cell_type": "markdown",
      "metadata": {
        "id": "view-in-github",
        "colab_type": "text"
      },
      "source": [
        "<a href=\"https://colab.research.google.com/github/ThaiSon09/ThaiSon09/blob/main/Lab2.ipynb\" target=\"_parent\"><img src=\"https://colab.research.google.com/assets/colab-badge.svg\" alt=\"Open In Colab\"/></a>"
      ]
    },
    {
      "cell_type": "code",
      "metadata": {
        "id": "ov-12XUFUvQE"
      },
      "source": [
        "kingdoms =  ['Bacteria', 'Protozoa', 'Chromista', 'Plantae', 'Fungi','Animalia']\n",
        "\n"
      ],
      "execution_count": null,
      "outputs": []
    },
    {
      "cell_type": "code",
      "metadata": {
        "colab": {
          "base_uri": "https://localhost:8080/",
          "height": 35
        },
        "id": "ku0r-JN5VmgS",
        "outputId": "ca363bd7-8e77-4376-fafe-72ed85c009d9"
      },
      "source": [
        "kingdoms[0]"
      ],
      "execution_count": null,
      "outputs": [
        {
          "output_type": "execute_result",
          "data": {
            "application/vnd.google.colaboratory.intrinsic+json": {
              "type": "string"
            },
            "text/plain": [
              "'Bacteria'"
            ]
          },
          "metadata": {},
          "execution_count": 3
        }
      ]
    },
    {
      "cell_type": "code",
      "metadata": {
        "colab": {
          "base_uri": "https://localhost:8080/",
          "height": 35
        },
        "id": "a-fZtVK-VplR",
        "outputId": "22196f7f-4c72-42c8-b21d-1d9e38366334"
      },
      "source": [
        "kingdoms[5]"
      ],
      "execution_count": null,
      "outputs": [
        {
          "output_type": "execute_result",
          "data": {
            "application/vnd.google.colaboratory.intrinsic+json": {
              "type": "string"
            },
            "text/plain": [
              "'Animalia'"
            ]
          },
          "metadata": {},
          "execution_count": 4
        }
      ]
    },
    {
      "cell_type": "code",
      "metadata": {
        "colab": {
          "base_uri": "https://localhost:8080/"
        },
        "id": "aAoljyyxVuTZ",
        "outputId": "a200c3c8-dda9-4ecb-8999-8d2bedf7f58a"
      },
      "source": [
        "kingdoms[:3]"
      ],
      "execution_count": null,
      "outputs": [
        {
          "output_type": "execute_result",
          "data": {
            "text/plain": [
              "['Bacteria', 'Protozoa', 'Chromista']"
            ]
          },
          "metadata": {},
          "execution_count": 5
        }
      ]
    },
    {
      "cell_type": "code",
      "metadata": {
        "colab": {
          "base_uri": "https://localhost:8080/"
        },
        "id": "kxNzEEOrVxbp",
        "outputId": "27fc5ff4-65f5-44e1-d303-d1d6ea63217c"
      },
      "source": [
        "kingdoms[2:5]"
      ],
      "execution_count": null,
      "outputs": [
        {
          "output_type": "execute_result",
          "data": {
            "text/plain": [
              "['Chromista', 'Plantae', 'Fungi']"
            ]
          },
          "metadata": {},
          "execution_count": 6
        }
      ]
    },
    {
      "cell_type": "code",
      "metadata": {
        "colab": {
          "base_uri": "https://localhost:8080/"
        },
        "id": "tS2_F3AUV63K",
        "outputId": "6ad7f95c-862d-465d-e7b4-50920ea9569d"
      },
      "source": [
        "kingdoms[4:]"
      ],
      "execution_count": null,
      "outputs": [
        {
          "output_type": "execute_result",
          "data": {
            "text/plain": [
              "['Fungi', 'Animalia']"
            ]
          },
          "metadata": {},
          "execution_count": 7
        }
      ]
    },
    {
      "cell_type": "code",
      "metadata": {
        "colab": {
          "base_uri": "https://localhost:8080/"
        },
        "id": "_OLJKO64V9PC",
        "outputId": "3f11f509-453f-43cb-8567-f2010808b3c0"
      },
      "source": [
        "kingdoms[1:0]"
      ],
      "execution_count": null,
      "outputs": [
        {
          "output_type": "execute_result",
          "data": {
            "text/plain": [
              "[]"
            ]
          },
          "metadata": {},
          "execution_count": 8
        }
      ]
    },
    {
      "cell_type": "code",
      "metadata": {
        "colab": {
          "base_uri": "https://localhost:8080/",
          "height": 35
        },
        "id": "JIsvFV9-WA4q",
        "outputId": "c2669a87-e86f-423e-acb6-406ef7238326"
      },
      "source": [
        "kingdoms[-6]"
      ],
      "execution_count": null,
      "outputs": [
        {
          "output_type": "execute_result",
          "data": {
            "application/vnd.google.colaboratory.intrinsic+json": {
              "type": "string"
            },
            "text/plain": [
              "'Bacteria'"
            ]
          },
          "metadata": {},
          "execution_count": 9
        }
      ]
    },
    {
      "cell_type": "code",
      "metadata": {
        "colab": {
          "base_uri": "https://localhost:8080/",
          "height": 35
        },
        "id": "TBsV1rO4WDRi",
        "outputId": "e031ff74-805b-43f6-890f-8e4dc357418f"
      },
      "source": [
        "kingdoms[-1]"
      ],
      "execution_count": null,
      "outputs": [
        {
          "output_type": "execute_result",
          "data": {
            "application/vnd.google.colaboratory.intrinsic+json": {
              "type": "string"
            },
            "text/plain": [
              "'Animalia'"
            ]
          },
          "metadata": {},
          "execution_count": 10
        }
      ]
    },
    {
      "cell_type": "code",
      "metadata": {
        "colab": {
          "base_uri": "https://localhost:8080/"
        },
        "id": "UMqzBV-kWFKh",
        "outputId": "7fc693e3-aa53-446f-8f83-b5483c92d91a"
      },
      "source": [
        "kingdoms[-6:-3]"
      ],
      "execution_count": null,
      "outputs": [
        {
          "output_type": "execute_result",
          "data": {
            "text/plain": [
              "['Bacteria', 'Protozoa', 'Chromista']"
            ]
          },
          "metadata": {},
          "execution_count": 11
        }
      ]
    },
    {
      "cell_type": "code",
      "metadata": {
        "colab": {
          "base_uri": "https://localhost:8080/"
        },
        "id": "nEbXmRHmWHax",
        "outputId": "9f02238a-3379-43ae-d402-4770d9324490"
      },
      "source": [
        "kingdoms[-4:-1]"
      ],
      "execution_count": null,
      "outputs": [
        {
          "output_type": "execute_result",
          "data": {
            "text/plain": [
              "['Chromista', 'Plantae', 'Fungi']"
            ]
          },
          "metadata": {},
          "execution_count": 12
        }
      ]
    },
    {
      "cell_type": "code",
      "metadata": {
        "colab": {
          "base_uri": "https://localhost:8080/"
        },
        "id": "vgP5yqoJWJcA",
        "outputId": "55ef1971-9e2f-4080-fe67-63b7bb9dd65a"
      },
      "source": [
        "kingdoms[-2:]"
      ],
      "execution_count": null,
      "outputs": [
        {
          "output_type": "execute_result",
          "data": {
            "text/plain": [
              "['Fungi', 'Animalia']"
            ]
          },
          "metadata": {},
          "execution_count": 13
        }
      ]
    },
    {
      "cell_type": "code",
      "metadata": {
        "colab": {
          "base_uri": "https://localhost:8080/"
        },
        "id": "sGXszrSFWL6w",
        "outputId": "54c74c97-79e2-4a26-de76-32767ad01d05"
      },
      "source": [
        "kingdoms[-1:-2]"
      ],
      "execution_count": null,
      "outputs": [
        {
          "output_type": "execute_result",
          "data": {
            "text/plain": [
              "[]"
            ]
          },
          "metadata": {},
          "execution_count": 14
        }
      ]
    },
    {
      "cell_type": "code",
      "metadata": {
        "id": "ixiHbDzxWUIp"
      },
      "source": [
        "appointments =  ['9:00', '10:30', '14:00', '15:00', '15:30']"
      ],
      "execution_count": null,
      "outputs": []
    },
    {
      "cell_type": "code",
      "metadata": {
        "id": "aLgm7O9ZXuTr",
        "colab": {
          "base_uri": "https://localhost:8080/"
        },
        "outputId": "88482666-d160-48e8-c921-41ea2092ec29"
      },
      "source": [
        "appointments = ['9:00', '10:30', '14:00', '15:00', '15:30']\n",
        "appointments.append('16:30')\n",
        "appointments"
      ],
      "execution_count": 1,
      "outputs": [
        {
          "output_type": "execute_result",
          "data": {
            "text/plain": [
              "['9:00', '10:30', '14:00', '15:00', '15:30', '16:30']"
            ]
          },
          "metadata": {},
          "execution_count": 1
        }
      ]
    },
    {
      "cell_type": "code",
      "metadata": {
        "colab": {
          "base_uri": "https://localhost:8080/"
        },
        "id": "kz1iEAm364aN",
        "outputId": "b958ba43-bc4d-451d-9086-7b1c4597c593"
      },
      "source": [
        "ids =[4353, 2314, 2956, 3382, 9362, 3900]\n",
        "#cau a. \n",
        "ids.remove(3382)\n",
        "print(ids)\n",
        "#cau b. \n",
        "ids.index(9362)\n",
        "print(ids)\n",
        "#cau c. \n",
        "ids.insert(ids.index(9362) + 1, 4499)\n",
        "print(ids)\n",
        "#cau d. \n",
        "ids = ids + [5566, 1830]\n",
        "print(ids)\n",
        "#cau e. \n",
        "ids.reverse()\n",
        "print(ids)\n",
        "#cau f. \n",
        "ids.sort()\n",
        "print(ids)"
      ],
      "execution_count": 2,
      "outputs": [
        {
          "output_type": "stream",
          "name": "stdout",
          "text": [
            "[4353, 2314, 2956, 9362, 3900]\n",
            "[4353, 2314, 2956, 9362, 3900]\n",
            "[4353, 2314, 2956, 9362, 4499, 3900]\n",
            "[4353, 2314, 2956, 9362, 4499, 3900, 5566, 1830]\n",
            "[1830, 5566, 3900, 4499, 9362, 2956, 2314, 4353]\n",
            "[1830, 2314, 2956, 3900, 4353, 4499, 5566, 9362]\n"
          ]
        }
      ]
    },
    {
      "cell_type": "code",
      "metadata": {
        "colab": {
          "base_uri": "https://localhost:8080/"
        },
        "id": "1p5b9zsJ668U",
        "outputId": "39f85277-9a3f-4278-8f0f-7a3c76f61170"
      },
      "source": [
        "alkaline_earth_metals = ['metals—beryllium','magnesium', ' calcium',' strontium','barium','radium']\n",
        "#Cau a. \n",
        "alkaline_earth_metals = [4, 12, 20, 38, 56, 88]\n",
        "#Cau b. \n",
        "print(alkaline_earth_metals[5], alkaline_earth_metals[-1])\n",
        "#Cau c. \n",
        "print(len(alkaline_earth_metals))\n",
        "#Cau d. \n",
        "print(max(alkaline_earth_metals))"
      ],
      "execution_count": 3,
      "outputs": [
        {
          "output_type": "stream",
          "name": "stdout",
          "text": [
            "88 88\n",
            "6\n",
            "88\n"
          ]
        }
      ]
    },
    {
      "cell_type": "code",
      "metadata": {
        "colab": {
          "base_uri": "https://localhost:8080/"
        },
        "id": "tY71VkiX6_Nb",
        "outputId": "ac79dd40-71ff-447e-b553-fcd6591a9167"
      },
      "source": [
        "#Cau a. \n",
        "temps = [25.2, 16.8, 31.4, 23.9, 28, 22.5, 19.6]\n",
        "print(temps)\n",
        "#Cau b. \n",
        "temps.sort()\n",
        "print(temps)\n",
        "#Cau c.\n",
        "cool_temps = temps[0:2]\n",
        "print(cool_temps)\n",
        "warm_temps = temps[2:]\n",
        "print(warm_temps)\n",
        "#Cau d. \n",
        "temps_in_celsius = cool_temps + warm_temps\n",
        "print(temps_in_celsius)"
      ],
      "execution_count": 4,
      "outputs": [
        {
          "output_type": "stream",
          "name": "stdout",
          "text": [
            "[25.2, 16.8, 31.4, 23.9, 28, 22.5, 19.6]\n",
            "[16.8, 19.6, 22.5, 23.9, 25.2, 28, 31.4]\n",
            "[16.8, 19.6]\n",
            "[22.5, 23.9, 25.2, 28, 31.4]\n",
            "[16.8, 19.6, 22.5, 23.9, 25.2, 28, 31.4]\n"
          ]
        }
      ]
    },
    {
      "cell_type": "code",
      "metadata": {
        "colab": {
          "base_uri": "https://localhost:8080/"
        },
        "id": "ncpNeRlK7B98",
        "outputId": "d048913e-75f9-4502-af59-962d88473977"
      },
      "source": [
        "def same_first_last(L : list ) -> bool:\n",
        "  if len(L) >= 2 and L[0] == L[-1]:\n",
        "    print(True)\n",
        "  else:\n",
        "    print(False)\n",
        "\n",
        "same_first_last([3, 4, 2, 8, 3])\n",
        "same_first_last(['apple', 'banana', 'pear'])\n",
        "same_first_last([4.0, 4.5])"
      ],
      "execution_count": 5,
      "outputs": [
        {
          "output_type": "stream",
          "name": "stdout",
          "text": [
            "True\n",
            "False\n",
            "False\n"
          ]
        }
      ]
    },
    {
      "cell_type": "code",
      "metadata": {
        "colab": {
          "base_uri": "https://localhost:8080/"
        },
        "id": "HXzk0trs7EVz",
        "outputId": "34474188-99d7-492d-be87-167a60116a3d"
      },
      "source": [
        "def is_longer(L1: list, L2: list) -> bool:\n",
        "  if len(L1) > len(L2):\n",
        "    print(True)\n",
        "  else:\n",
        "    print(False)\n",
        "is_longer([1, 2, 3], [4, 5])\n",
        "is_longer(['abcdef'], ['ab', 'cd', 'ef'])\n",
        "is_longer(['a', 'b', 'c'], [1, 2, 3])"
      ],
      "execution_count": 6,
      "outputs": [
        {
          "output_type": "stream",
          "name": "stdout",
          "text": [
            "True\n",
            "False\n",
            "False\n"
          ]
        }
      ]
    },
    {
      "cell_type": "code",
      "metadata": {
        "id": "0T3DauAG7Gt0"
      },
      "source": [
        "values = [0, 1, 2]\n",
        "values[1] = values"
      ],
      "execution_count": 7,
      "outputs": []
    },
    {
      "cell_type": "code",
      "metadata": {
        "colab": {
          "base_uri": "https://localhost:8080/"
        },
        "id": "3Ho7vCNY7Hts",
        "outputId": "b8d9d2ae-7907-4f80-8ccf-9a10e4232014"
      },
      "source": [
        "units =[['km', 'miles', 'league'],['kg', 'pound', 'stone']]\n",
        "#a. \n",
        "print(units[0])\n",
        "#b. \n",
        "print(units[-1] or units[1])\n",
        "#c. \n",
        "print(units[0][0])\n",
        "#d. \n",
        "print(units[1][0])\n",
        "#e. \n",
        "print(units[0][1:])\n",
        "#f. \n",
        "print(units[1][0:2])"
      ],
      "execution_count": 8,
      "outputs": [
        {
          "output_type": "stream",
          "name": "stdout",
          "text": [
            "['km', 'miles', 'league']\n",
            "['kg', 'pound', 'stone']\n",
            "km\n",
            "kg\n",
            "['miles', 'league']\n",
            "['kg', 'pound']\n"
          ]
        }
      ]
    },
    {
      "cell_type": "code",
      "metadata": {
        "colab": {
          "base_uri": "https://localhost:8080/"
        },
        "id": "aM-tnuiH7KEN",
        "outputId": "9c5568f9-e88f-4655-bed1-dcde06aa0809"
      },
      "source": [
        "units =[['km', 'miles', 'league'],['kg', 'pound', 'stone']]\n",
        "#a.\n",
        "print(units[-2])\n",
        "#b. \n",
        "print(units[-1])\n",
        "#c. \n",
        "print(units[-2][-3])\n",
        "#d. \n",
        "print(units[-1][-3])\n",
        "#e. \n",
        "print(units[-2][-2:])\n",
        "#f. \n",
        "print(units[-1][:-1])"
      ],
      "execution_count": 9,
      "outputs": [
        {
          "output_type": "stream",
          "name": "stdout",
          "text": [
            "['km', 'miles', 'league']\n",
            "['kg', 'pound', 'stone']\n",
            "km\n",
            "kg\n",
            "['miles', 'league']\n",
            "['kg', 'pound']\n"
          ]
        }
      ]
    }
  ]
}