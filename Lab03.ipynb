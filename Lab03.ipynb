{
  "nbformat": 4,
  "nbformat_minor": 0,
  "metadata": {
    "colab": {
      "name": "Lab03.ipynb",
      "provenance": [],
      "collapsed_sections": [],
      "authorship_tag": "ABX9TyNSQlEsocv0m08BVheNA1OO",
      "include_colab_link": true
    },
    "kernelspec": {
      "name": "python3",
      "display_name": "Python 3"
    },
    "language_info": {
      "name": "python"
    }
  },
  "cells": [
    {
      "cell_type": "markdown",
      "metadata": {
        "id": "view-in-github",
        "colab_type": "text"
      },
      "source": [
        "<a href=\"https://colab.research.google.com/github/ThaiSon09/ThaiSon09/blob/main/Lab03.ipynb\" target=\"_parent\"><img src=\"https://colab.research.google.com/assets/colab-badge.svg\" alt=\"Open In Colab\"/></a>"
      ]
    },
    {
      "cell_type": "markdown",
      "metadata": {
        "id": "pDUKhKkQqSJE"
      },
      "source": [
        "Bài 1:"
      ]
    },
    {
      "cell_type": "code",
      "metadata": {
        "id": "FWmjgNdXqU5U"
      },
      "source": [
        "filename = input('Which file would you like to back-up? ')\n",
        "new_filename = filename + '.bak'\n",
        "backup = open(new_filename, 'w')\n",
        "for line in open(filename):\n",
        " backup.write(line)\n",
        " backup.close()"
      ],
      "execution_count": null,
      "outputs": []
    },
    {
      "cell_type": "markdown",
      "metadata": {
        "id": "iKtNQ7kvqwV8"
      },
      "source": [
        "Bài 2:"
      ]
    },
    {
      "cell_type": "code",
      "metadata": {
        "colab": {
          "base_uri": "https://localhost:8080/"
        },
        "id": "PwM2JOFfqvfM",
        "outputId": "a580c1ac-8dc2-44bf-9694-1bf7de217f7f"
      },
      "source": [
        "alkaline_metals = []\n",
        "for line in open('alkaline_metals.txt'):\n",
        " alkaline_metals.append(line.strip().split(' '))\n",
        "print(alkaline_metals)"
      ],
      "execution_count": 3,
      "outputs": [
        {
          "output_type": "stream",
          "name": "stdout",
          "text": [
            "[[\"'beryllium',\", \"'4',\", \"'9.012',\"], [\"'magnesium',\", \"'12',\", \"'24.305',\"], [\"'calcium',\", \"'20',\", \"'20.078',\"], [\"'strontium',\", \"'38',\", \"'87.62',\"], [\"'barium',\", \"'56',\", \"'137.327',\"], [\"'radium',\", \"'88',\", \"'226'\"]]\n"
          ]
        }
      ]
    },
    {
      "cell_type": "markdown",
      "metadata": {
        "id": "J56R0fy8rpes"
      },
      "source": [
        "bài 3:\n"
      ]
    },
    {
      "cell_type": "code",
      "metadata": {
        "colab": {
          "base_uri": "https://localhost:8080/"
        },
        "id": "Q4dWVfskrqmU",
        "outputId": "e7c55dff-3671-4155-fade-825d02e5890f"
      },
      "source": [
        "content = []\n",
        "for line in open('son.txt'):\n",
        "    content.append(line)\n",
        "print('Doc nguoc file :\\n ',)\n",
        "for line in reversed(content):\n",
        "    print(line)"
      ],
      "execution_count": 5,
      "outputs": [
        {
          "output_type": "stream",
          "name": "stdout",
          "text": [
            "Doc nguoc file :\n",
            " \n",
            "Thái Sơn\n",
            "Ninh Thuận\n",
            "\n",
            "Age 21\n",
            "\n",
            " CNTT K24IT\n",
            "\n",
            "Đọc file :\n",
            "\n"
          ]
        }
      ]
    },
    {
      "cell_type": "markdown",
      "metadata": {
        "id": "KFZ-MJQCsFUb"
      },
      "source": [
        "bài 4:\n"
      ]
    },
    {
      "cell_type": "code",
      "metadata": {
        "colab": {
          "base_uri": "https://localhost:8080/"
        },
        "id": "_Zqa1jjPsGdc",
        "outputId": "0cda85ae-42d2-4c0c-d510-c9c312d802eb"
      },
      "source": [
        "def skip_header(reader):\n",
        "    \n",
        "    # Read the description line and then the comment lines.\n",
        "    line = reader.readline()    \n",
        "    line = reader.readline()\n",
        "    while line.startswith('#'):\n",
        "        line = reader.readline() \n",
        "    # Now line contains the first real piece of data.\n",
        "    return line\n",
        "\n",
        "def process_file(reader):\n",
        "    # Find the first piece of data.\n",
        "    line = skip_header(reader).strip()\n",
        "    print(line)\n",
        "    # Read the rest of the data.\n",
        "    for line in reader:\n",
        "        line = line.strip()\n",
        "        print(line)\n",
        "\n",
        "input_file = open('son.txt', 'r')\n",
        "process_file(input_file)\n",
        "input_file.close()"
      ],
      "execution_count": 6,
      "outputs": [
        {
          "output_type": "stream",
          "name": "stdout",
          "text": [
            "CNTT K24IT\n",
            "Age 21\n",
            "Ninh Thuận\n",
            "Thái Sơn\n"
          ]
        }
      ]
    },
    {
      "cell_type": "markdown",
      "metadata": {
        "id": "z773DrzBsMKc"
      },
      "source": [
        "Bài 5:"
      ]
    },
    {
      "cell_type": "code",
      "metadata": {
        "colab": {
          "base_uri": "https://localhost:8080/"
        },
        "id": "gOw-KGDWsKDW",
        "outputId": "65222ca6-bc4d-42ba-c5c5-971cfa8b0205"
      },
      "source": [
        "def smallest_value_skip(reader):\n",
        "    line = skip_header(reader).strip()\n",
        "    # Only execute this code, if there is data following the header.\n",
        "    if line != '':\n",
        "        smallest = line\n",
        "    for line in reader:\n",
        "        line = line.strip()\n",
        "        if line != '-':\n",
        "            value = line\n",
        "            smallest = min(smallest, value)\n",
        "    return smallest\n",
        "\n",
        "input_file = open('son.txt', 'r')\n",
        "print(smallest_value_skip(input_file))\n",
        "input_file.close()"
      ],
      "execution_count": 7,
      "outputs": [
        {
          "output_type": "stream",
          "name": "stdout",
          "text": [
            "Age 21\n"
          ]
        }
      ]
    },
    {
      "cell_type": "markdown",
      "metadata": {
        "id": "gLs4ptNYsRXM"
      },
      "source": [
        "bài 6:\n"
      ]
    },
    {
      "cell_type": "code",
      "metadata": {
        "colab": {
          "base_uri": "https://localhost:8080/"
        },
        "id": "c1RZ1HarsSYl",
        "outputId": "734419c2-ff81-44d7-c184-9a1a04d2d8bd"
      },
      "source": [
        "def smallest_value_skip2(reader):\n",
        "    line = skip_header(reader).strip()\n",
        "    # Now line contains the first data value; this is also the smallest value\n",
        "    # found so far, because it is the only one we have seen.\n",
        "    smallest = line\n",
        "\n",
        "    for line in reader: \n",
        "        line = line.strip()\n",
        "        if line == '-':\n",
        "            continue\n",
        "\n",
        "    value = line\n",
        "    smallest = min(smallest, value)\n",
        "\n",
        "    return smallest\n",
        "\n",
        "input_file = open('son.txt', 'r')\n",
        "print(smallest_value_skip2(input_file))\n",
        "input_file.close()"
      ],
      "execution_count": 8,
      "outputs": [
        {
          "output_type": "stream",
          "name": "stdout",
          "text": [
            "CNTT K24IT\n"
          ]
        }
      ]
    },
    {
      "cell_type": "markdown",
      "metadata": {
        "id": "lm9rIXdJsV2O"
      },
      "source": [
        "Bài 7:\n"
      ]
    },
    {
      "cell_type": "code",
      "metadata": {
        "colab": {
          "base_uri": "https://localhost:8080/"
        },
        "id": "LpcH-d2TsU0v",
        "outputId": "8cae7219-e52a-44b8-8859-a5a2890491de"
      },
      "source": [
        "def read_molecule(reader):\n",
        "    content = []\n",
        "    for line in reader:\n",
        "        if not line.startswith('CMNT'):\n",
        "            if not line.isspace():\n",
        "                content.append(line.strip())\n",
        "    for line in content:\n",
        "        print(line)\n",
        "    \n",
        "input_file = open('son.pdb', 'r')\n",
        "print(read_molecule(input_file))\n",
        "input_file.close()"
      ],
      "execution_count": 10,
      "outputs": [
        {
          "output_type": "stream",
          "name": "stdout",
          "text": [
            "Đọc file :\n",
            "CNTT K24IT\n",
            "Age 21\n",
            "Ninh Thuận\n",
            "Thái Sơn\n",
            "None\n"
          ]
        }
      ]
    }
  ]
}