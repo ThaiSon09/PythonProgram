{
  "nbformat": 4,
  "nbformat_minor": 0,
  "metadata": {
    "colab": {
      "name": "Lab05.ipynb",
      "provenance": [],
      "collapsed_sections": [],
      "authorship_tag": "ABX9TyNBjNqmfPxwgc6kyCWOq+aG",
      "include_colab_link": true
    },
    "kernelspec": {
      "name": "python3",
      "display_name": "Python 3"
    },
    "language_info": {
      "name": "python"
    }
  },
  "cells": [
    {
      "cell_type": "markdown",
      "metadata": {
        "id": "view-in-github",
        "colab_type": "text"
      },
      "source": [
        "<a href=\"https://colab.research.google.com/github/ThaiSon09/ThaiSon09/blob/main/Lab05.ipynb\" target=\"_parent\"><img src=\"https://colab.research.google.com/assets/colab-badge.svg\" alt=\"Open In Colab\"/></a>"
      ]
    },
    {
      "cell_type": "markdown",
      "metadata": {
        "id": "dQmgmuZquT4K"
      },
      "source": [
        "Câu 1:"
      ]
    },
    {
      "cell_type": "code",
      "metadata": {
        "id": "mJtn_sWCxJHy"
      },
      "source": [
        "from Country import Country\n",
        "from Continent import Continent\n",
        "from Student import Student\n",
        "from Nematode import Nematode\n",
        "from Point import Point\n",
        "from Point import LineSegment"
      ],
      "execution_count": null,
      "outputs": []
    },
    {
      "cell_type": "code",
      "metadata": {
        "id": "RI1iKBYyugHq"
      },
      "source": [
        "#cau a\n",
        "canada = Country('Canada', 34482779, 9984670)\n",
        "print('canada.name ->',canada.name)\n",
        "print('canada.population ->',canada.population)\n",
        "print('canada.area ->',canada.area)"
      ],
      "execution_count": null,
      "outputs": []
    },
    {
      "cell_type": "code",
      "metadata": {
        "id": "9ijfIhF_unTi"
      },
      "source": [
        "#cau b\n",
        "canada = Country('Canada', 34482779, 9984670)\n",
        "usa = Country('United States of America', 313914040, 9826675)\n",
        "print('canada.is_larger(usa) -> ',canada.is_larger(usa))"
      ],
      "execution_count": null,
      "outputs": []
    },
    {
      "cell_type": "code",
      "metadata": {
        "id": "i0IXBZiaupNq"
      },
      "source": [
        "#cau c\n",
        "print('canada.population_density() ->', canada.population_density())"
      ],
      "execution_count": null,
      "outputs": []
    },
    {
      "cell_type": "code",
      "metadata": {
        "id": "K2DH7mYEuq3y"
      },
      "source": [
        "#cau d\n",
        "usa = Country('United States of America', 313914040, 9826675)\n",
        "print('usa ->',usa)"
      ],
      "execution_count": null,
      "outputs": []
    },
    {
      "cell_type": "code",
      "metadata": {
        "id": "s4Upk_O_ussS"
      },
      "source": [
        "#cau e\n",
        "canada = Country('Canada', 34482779, 9984670)\n",
        "canada\n",
        "print(canada)\n",
        "[canada]\n",
        "print([canada])"
      ],
      "execution_count": null,
      "outputs": []
    },
    {
      "cell_type": "markdown",
      "metadata": {
        "id": "YWiEar_Jws-S"
      },
      "source": [
        "Câu 2:"
      ]
    },
    {
      "cell_type": "code",
      "metadata": {
        "id": "puYtczGow6hK"
      },
      "source": [
        "canada = Country('Canada', 34482779, 9984670)\n",
        "usa = Country('United States of America', 313914040,9826675)\n",
        "mexico = Country('Mexico', 112336538, 1943950)\n",
        "\n",
        "countries = [canada, usa , mexico]\n",
        "north_america = Continent('North America', countries)\n",
        "\n",
        "for country in north_america.countries:\n",
        "    print(country)"
      ],
      "execution_count": null,
      "outputs": []
    },
    {
      "cell_type": "code",
      "metadata": {
        "id": "tSRRkIJqw8o5"
      },
      "source": [
        "#cau b\n",
        "print(north_america.total_population())"
      ],
      "execution_count": null,
      "outputs": []
    },
    {
      "cell_type": "code",
      "metadata": {
        "id": "16PL12TMw_Ky"
      },
      "source": [
        "#cau c\n",
        "print(north_america)"
      ],
      "execution_count": null,
      "outputs": []
    },
    {
      "cell_type": "markdown",
      "metadata": {
        "id": "EONhp2OcxTEx"
      },
      "source": [
        "Câu 3:"
      ]
    },
    {
      "cell_type": "code",
      "metadata": {
        "id": "NxoQwNDmxUTx"
      },
      "source": [
        "student1 = Student(\"PhamHongThaiSon\",\"NinhThuan\",\"thaisonphamhong@gmail.com\",1509)\n",
        "print(student1)"
      ],
      "execution_count": null,
      "outputs": []
    },
    {
      "cell_type": "code",
      "metadata": {
        "id": "AmoI_QBkzML6"
      },
      "source": [
        "student1.courses_taken = [\"Python\",\"OOP\"]\n",
        "print(student1)"
      ],
      "execution_count": null,
      "outputs": []
    },
    {
      "cell_type": "code",
      "metadata": {
        "id": "BX7GV8e3zPuL"
      },
      "source": [
        "student1.courses_taking = [\"Advanced python programming\"]\n",
        "print(student1)"
      ],
      "execution_count": null,
      "outputs": []
    },
    {
      "cell_type": "markdown",
      "metadata": {
        "id": "Ys12vEcCzl0p"
      },
      "source": [
        "Câu 4:"
      ]
    },
    {
      "cell_type": "code",
      "metadata": {
        "id": "OKrPX4h1znAK"
      },
      "source": [
        "nematode1 = Nematode(\"1\",\"male\",\"4\",)\n",
        "print(nematode1)"
      ],
      "execution_count": null,
      "outputs": []
    },
    {
      "cell_type": "markdown",
      "metadata": {
        "id": "Evyx7CKZ0CYI"
      },
      "source": [
        "Câu 5:"
      ]
    },
    {
      "cell_type": "code",
      "metadata": {
        "id": "oTaci5Yl0UP6"
      },
      "source": [
        "segment = LineSegment(Point(1, 1), Point(3, 2))\n",
        "segment.slope()"
      ],
      "execution_count": null,
      "outputs": []
    },
    {
      "cell_type": "code",
      "metadata": {
        "id": "A0B42Z8j0XeZ"
      },
      "source": [
        "segment.length()"
      ],
      "execution_count": null,
      "outputs": []
    }
  ]
}