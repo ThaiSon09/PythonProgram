{
  "cells": [
    {
      "cell_type": "markdown",
      "metadata": {
        "colab_type": "text",
        "id": "view-in-github"
      },
      "source": [
        "<a href=\"https://colab.research.google.com/github/ThaiSon09/ThaiSon09/blob/main/Lab05.ipynb\" target=\"_parent\"><img src=\"https://colab.research.google.com/assets/colab-badge.svg\" alt=\"Open In Colab\"/></a>"
      ]
    },
    {
      "cell_type": "markdown",
      "metadata": {
        "id": "dQmgmuZquT4K"
      },
      "source": [
        "Câu 1:"
      ]
    },
    {
      "cell_type": "code",
      "execution_count": 1,
      "metadata": {
        "id": "mJtn_sWCxJHy"
      },
      "outputs": [
        {
          "ename": "ModuleNotFoundError",
          "evalue": "No module named 'Country'",
          "output_type": "error",
          "traceback": [
            "\u001b[1;31m---------------------------------------------------------------------------\u001b[0m",
            "\u001b[1;31mModuleNotFoundError\u001b[0m                       Traceback (most recent call last)",
            "\u001b[1;32m~\\AppData\\Local\\Temp/ipykernel_17736/943120988.py\u001b[0m in \u001b[0;36m<module>\u001b[1;34m\u001b[0m\n\u001b[1;32m----> 1\u001b[1;33m \u001b[1;32mfrom\u001b[0m \u001b[0mCountry\u001b[0m \u001b[1;32mimport\u001b[0m \u001b[0mCountry\u001b[0m\u001b[1;33m\u001b[0m\u001b[1;33m\u001b[0m\u001b[0m\n\u001b[0m\u001b[0;32m      2\u001b[0m \u001b[1;32mfrom\u001b[0m \u001b[0mContinent\u001b[0m \u001b[1;32mimport\u001b[0m \u001b[0mContinent\u001b[0m\u001b[1;33m\u001b[0m\u001b[1;33m\u001b[0m\u001b[0m\n\u001b[0;32m      3\u001b[0m \u001b[1;32mfrom\u001b[0m \u001b[0mStudent\u001b[0m \u001b[1;32mimport\u001b[0m \u001b[0mStudent\u001b[0m\u001b[1;33m\u001b[0m\u001b[1;33m\u001b[0m\u001b[0m\n\u001b[0;32m      4\u001b[0m \u001b[1;32mfrom\u001b[0m \u001b[0mNematode\u001b[0m \u001b[1;32mimport\u001b[0m \u001b[0mNematode\u001b[0m\u001b[1;33m\u001b[0m\u001b[1;33m\u001b[0m\u001b[0m\n\u001b[0;32m      5\u001b[0m \u001b[1;32mfrom\u001b[0m \u001b[0mPoint\u001b[0m \u001b[1;32mimport\u001b[0m \u001b[0mPoint\u001b[0m\u001b[1;33m\u001b[0m\u001b[1;33m\u001b[0m\u001b[0m\n",
            "\u001b[1;31mModuleNotFoundError\u001b[0m: No module named 'Country'"
          ]
        }
      ],
      "source": [
        "from Country import Country\n",
        "from Continent import Continent\n",
        "from Student import Student\n",
        "from Nematode import Nematode\n",
        "from Point import Point\n",
        "from Point import LineSegment"
      ]
    },
    {
      "cell_type": "code",
      "execution_count": null,
      "metadata": {
        "id": "RI1iKBYyugHq"
      },
      "outputs": [],
      "source": [
        "#cau a\n",
        "canada = Country('Canada', 34482779, 9984670)\n",
        "print('canada.name ->',canada.name)\n",
        "print('canada.population ->',canada.population)\n",
        "print('canada.area ->',canada.area)"
      ]
    },
    {
      "cell_type": "code",
      "execution_count": null,
      "metadata": {
        "id": "9ijfIhF_unTi"
      },
      "outputs": [],
      "source": [
        "#cau b\n",
        "canada = Country('Canada', 34482779, 9984670)\n",
        "usa = Country('United States of America', 313914040, 9826675)\n",
        "print('canada.is_larger(usa) -> ',canada.is_larger(usa))"
      ]
    },
    {
      "cell_type": "code",
      "execution_count": null,
      "metadata": {
        "id": "i0IXBZiaupNq"
      },
      "outputs": [],
      "source": [
        "#cau c\n",
        "print('canada.population_density() ->', canada.population_density())"
      ]
    },
    {
      "cell_type": "code",
      "execution_count": null,
      "metadata": {
        "id": "K2DH7mYEuq3y"
      },
      "outputs": [],
      "source": [
        "#cau d\n",
        "usa = Country('United States of America', 313914040, 9826675)\n",
        "print('usa ->',usa)"
      ]
    },
    {
      "cell_type": "code",
      "execution_count": null,
      "metadata": {
        "id": "s4Upk_O_ussS"
      },
      "outputs": [],
      "source": [
        "#cau e\n",
        "canada = Country('Canada', 34482779, 9984670)\n",
        "canada\n",
        "print(canada)\n",
        "[canada]\n",
        "print([canada])"
      ]
    },
    {
      "cell_type": "markdown",
      "metadata": {
        "id": "YWiEar_Jws-S"
      },
      "source": [
        "Câu 2:"
      ]
    },
    {
      "cell_type": "code",
      "execution_count": null,
      "metadata": {
        "id": "puYtczGow6hK"
      },
      "outputs": [],
      "source": [
        "canada = Country('Canada', 34482779, 9984670)\n",
        "usa = Country('United States of America', 313914040,9826675)\n",
        "mexico = Country('Mexico', 112336538, 1943950)\n",
        "\n",
        "countries = [canada, usa , mexico]\n",
        "north_america = Continent('North America', countries)\n",
        "\n",
        "for country in north_america.countries:\n",
        "    print(country)"
      ]
    },
    {
      "cell_type": "code",
      "execution_count": null,
      "metadata": {
        "id": "tSRRkIJqw8o5"
      },
      "outputs": [],
      "source": [
        "#cau b\n",
        "print(north_america.total_population())"
      ]
    },
    {
      "cell_type": "code",
      "execution_count": null,
      "metadata": {
        "id": "16PL12TMw_Ky"
      },
      "outputs": [],
      "source": [
        "#cau c\n",
        "print(north_america)"
      ]
    },
    {
      "cell_type": "markdown",
      "metadata": {
        "id": "EONhp2OcxTEx"
      },
      "source": [
        "Câu 3:"
      ]
    },
    {
      "cell_type": "code",
      "execution_count": null,
      "metadata": {
        "id": "NxoQwNDmxUTx"
      },
      "outputs": [],
      "source": [
        "student1 = Student(\"PhamHongThaiSon\",\"NinhThuan\",\"thaisonphamhong@gmail.com\",1509)\n",
        "print(student1)"
      ]
    },
    {
      "cell_type": "code",
      "execution_count": null,
      "metadata": {
        "id": "AmoI_QBkzML6"
      },
      "outputs": [],
      "source": [
        "student1.courses_taken = [\"Python\",\"OOP\"]\n",
        "print(student1)"
      ]
    },
    {
      "cell_type": "code",
      "execution_count": null,
      "metadata": {
        "id": "BX7GV8e3zPuL"
      },
      "outputs": [],
      "source": [
        "student1.courses_taking = [\"Advanced python programming\"]\n",
        "print(student1)"
      ]
    },
    {
      "cell_type": "markdown",
      "metadata": {
        "id": "Ys12vEcCzl0p"
      },
      "source": [
        "Câu 4:"
      ]
    },
    {
      "cell_type": "code",
      "execution_count": null,
      "metadata": {
        "id": "OKrPX4h1znAK"
      },
      "outputs": [],
      "source": [
        "nematode1 = Nematode(\"1\",\"male\",\"4\",)\n",
        "print(nematode1)"
      ]
    },
    {
      "cell_type": "markdown",
      "metadata": {
        "id": "Evyx7CKZ0CYI"
      },
      "source": [
        "Câu 5:"
      ]
    },
    {
      "cell_type": "code",
      "execution_count": null,
      "metadata": {
        "id": "oTaci5Yl0UP6"
      },
      "outputs": [],
      "source": [
        "segment = LineSegment(Point(1, 1), Point(3, 2))\n",
        "segment.slope()"
      ]
    },
    {
      "cell_type": "code",
      "execution_count": null,
      "metadata": {
        "id": "A0B42Z8j0XeZ"
      },
      "outputs": [],
      "source": [
        "segment.length()"
      ]
    }
  ],
  "metadata": {
    "colab": {
      "authorship_tag": "ABX9TyNBjNqmfPxwgc6kyCWOq+aG",
      "collapsed_sections": [],
      "include_colab_link": true,
      "name": "Lab05.ipynb",
      "provenance": []
    },
    "interpreter": {
      "hash": "9d16cb7290e2b2389a82e0c2c1d31a0d31b75724de856df61ef62495949b3548"
    },
    "kernelspec": {
      "display_name": "Python 3.10.0 64-bit",
      "name": "python3"
    },
    "language_info": {
      "codemirror_mode": {
        "name": "ipython",
        "version": 3
      },
      "file_extension": ".py",
      "mimetype": "text/x-python",
      "name": "python",
      "nbconvert_exporter": "python",
      "pygments_lexer": "ipython3",
      "version": "3.10.0"
    }
  },
  "nbformat": 4,
  "nbformat_minor": 0
}
